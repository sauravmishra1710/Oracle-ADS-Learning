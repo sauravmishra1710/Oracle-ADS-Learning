{
 "cells": [
  {
   "cell_type": "code",
   "execution_count": 1,
   "id": "f5c07c42",
   "metadata": {},
   "outputs": [],
   "source": [
    "import ads\n",
    "import logging\n",
    "import numpy as np\n",
    "import os\n",
    "import pandas as pd\n",
    "import shutil\n",
    "import tempfile\n",
    "import warnings\n",
    "\n",
    "from ads.dataset.dataset_browser import DatasetBrowser\n",
    "from ads.dataset.factory import DatasetFactory\n",
    "from ads.common.data import ADSData\n",
    "from ads.common.model import ADSModel\n",
    "from os import path\n",
    "from sqlalchemy import create_engine\n",
    "import seaborn as sns\n",
    "from sklearn.base import TransformerMixin\n",
    "from sklearn.ensemble import RandomForestClassifier\n",
    "from sklearn.tree import DecisionTreeClassifier\n",
    "from sklearn.pipeline import make_pipeline\n",
    "from sklearn.preprocessing import LabelEncoder\n",
    "#from sklearn.model_selection import GridSearchCV\n",
    "#from sklearn.metrics import get_scorer\n",
    "from collections import defaultdict\n",
    "from ads.evaluations.evaluator import ADSEvaluator\n",
    "#from ads.explanations.explainer import ADSExplainer\n",
    "\n",
    "from ads.dataset.dataset_browser import DatasetBrowser\n",
    "#from ads.feature_engineering import feature_type_manager, FeatureType\n",
    "import matplotlib.pyplot as plt\n",
    "from os import path\n",
    "\n",
    "warnings.filterwarnings('ignore')\n",
    "logging.basicConfig(format='%(levelname)s:%(message)s', level=logging.ERROR)"
   ]
  },
  {
   "cell_type": "code",
   "execution_count": 2,
   "id": "4227d3b1",
   "metadata": {},
   "outputs": [
    {
     "name": "stdout",
     "output_type": "stream",
     "text": [
      "2.8.8\n"
     ]
    }
   ],
   "source": [
    "print(ads.__version__)"
   ]
  },
  {
   "cell_type": "code",
   "execution_count": 3,
   "id": "030deecf",
   "metadata": {},
   "outputs": [],
   "source": [
    "diab = pd.read_csv('diabetes_prediction_dataset.csv')"
   ]
  },
  {
   "cell_type": "code",
   "execution_count": 4,
   "id": "29c4732a",
   "metadata": {},
   "outputs": [
    {
     "data": {
      "application/vnd.jupyter.widget-view+json": {
       "model_id": "52add5fb2a6b4f4085b2ae9d83fa42c1",
       "version_major": 2,
       "version_minor": 0
      },
      "text/plain": [
       "loop1:   0%|          | 0/4 [00:00<?, ?it/s]"
      ]
     },
     "metadata": {},
     "output_type": "display_data"
    }
   ],
   "source": [
    "diab_ds = DatasetFactory.from_dataframe(pd.DataFrame(diab), target = 'diabetes')"
   ]
  },
  {
   "cell_type": "code",
   "execution_count": 6,
   "id": "5887e1e0",
   "metadata": {},
   "outputs": [
    {
     "data": {
      "text/plain": [
       "ads.dataset.classification_dataset.BinaryClassificationDataset"
      ]
     },
     "execution_count": 6,
     "metadata": {},
     "output_type": "execute_result"
    }
   ],
   "source": [
    "type(diab_ds)"
   ]
  },
  {
   "cell_type": "code",
   "execution_count": 7,
   "id": "f6debf95",
   "metadata": {},
   "outputs": [
    {
     "data": {
      "text/html": [
       "<div>\n",
       "<style scoped>\n",
       "    .dataframe tbody tr th:only-of-type {\n",
       "        vertical-align: middle;\n",
       "    }\n",
       "\n",
       "    .dataframe tbody tr th {\n",
       "        vertical-align: top;\n",
       "    }\n",
       "\n",
       "    .dataframe thead th {\n",
       "        text-align: right;\n",
       "    }\n",
       "</style>\n",
       "<table border=\"1\" class=\"dataframe\">\n",
       "  <thead>\n",
       "    <tr style=\"text-align: right;\">\n",
       "      <th></th>\n",
       "      <th>gender</th>\n",
       "      <th>age</th>\n",
       "      <th>hypertension</th>\n",
       "      <th>heart_disease</th>\n",
       "      <th>smoking_history</th>\n",
       "      <th>bmi</th>\n",
       "      <th>HbA1c_level</th>\n",
       "      <th>blood_glucose_level</th>\n",
       "      <th>diabetes</th>\n",
       "    </tr>\n",
       "  </thead>\n",
       "  <tbody>\n",
       "    <tr>\n",
       "      <th>0</th>\n",
       "      <td>Female</td>\n",
       "      <td>80.0</td>\n",
       "      <td>0</td>\n",
       "      <td>1</td>\n",
       "      <td>never</td>\n",
       "      <td>25.19</td>\n",
       "      <td>6.6</td>\n",
       "      <td>140</td>\n",
       "      <td>0</td>\n",
       "    </tr>\n",
       "    <tr>\n",
       "      <th>1</th>\n",
       "      <td>Female</td>\n",
       "      <td>54.0</td>\n",
       "      <td>0</td>\n",
       "      <td>0</td>\n",
       "      <td>No Info</td>\n",
       "      <td>27.32</td>\n",
       "      <td>6.6</td>\n",
       "      <td>80</td>\n",
       "      <td>0</td>\n",
       "    </tr>\n",
       "    <tr>\n",
       "      <th>2</th>\n",
       "      <td>Male</td>\n",
       "      <td>28.0</td>\n",
       "      <td>0</td>\n",
       "      <td>0</td>\n",
       "      <td>never</td>\n",
       "      <td>27.32</td>\n",
       "      <td>5.7</td>\n",
       "      <td>158</td>\n",
       "      <td>0</td>\n",
       "    </tr>\n",
       "    <tr>\n",
       "      <th>3</th>\n",
       "      <td>Female</td>\n",
       "      <td>36.0</td>\n",
       "      <td>0</td>\n",
       "      <td>0</td>\n",
       "      <td>current</td>\n",
       "      <td>23.45</td>\n",
       "      <td>5.0</td>\n",
       "      <td>155</td>\n",
       "      <td>0</td>\n",
       "    </tr>\n",
       "    <tr>\n",
       "      <th>4</th>\n",
       "      <td>Male</td>\n",
       "      <td>76.0</td>\n",
       "      <td>1</td>\n",
       "      <td>1</td>\n",
       "      <td>current</td>\n",
       "      <td>20.14</td>\n",
       "      <td>4.8</td>\n",
       "      <td>155</td>\n",
       "      <td>0</td>\n",
       "    </tr>\n",
       "  </tbody>\n",
       "</table>\n",
       "</div>"
      ],
      "text/plain": [
       "   gender   age  hypertension  heart_disease smoking_history    bmi  \\\n",
       "0  Female  80.0             0              1           never  25.19   \n",
       "1  Female  54.0             0              0         No Info  27.32   \n",
       "2    Male  28.0             0              0           never  27.32   \n",
       "3  Female  36.0             0              0         current  23.45   \n",
       "4    Male  76.0             1              1         current  20.14   \n",
       "\n",
       "   HbA1c_level  blood_glucose_level  diabetes  \n",
       "0          6.6                  140         0  \n",
       "1          6.6                   80         0  \n",
       "2          5.7                  158         0  \n",
       "3          5.0                  155         0  \n",
       "4          4.8                  155         0  "
      ]
     },
     "execution_count": 7,
     "metadata": {},
     "output_type": "execute_result"
    }
   ],
   "source": [
    "diab_ds.head()"
   ]
  },
  {
   "cell_type": "code",
   "execution_count": 11,
   "id": "55a14c69",
   "metadata": {},
   "outputs": [
    {
     "data": {
      "text/plain": [
       "(100000, 9)"
      ]
     },
     "execution_count": 11,
     "metadata": {},
     "output_type": "execute_result"
    }
   ],
   "source": [
    "diab_ds.shape"
   ]
  },
  {
   "cell_type": "code",
   "execution_count": 12,
   "id": "c2740712",
   "metadata": {},
   "outputs": [
    {
     "data": {
      "text/html": [
       "<div>\n",
       "<style scoped>\n",
       "    .dataframe tbody tr th:only-of-type {\n",
       "        vertical-align: middle;\n",
       "    }\n",
       "\n",
       "    .dataframe tbody tr th {\n",
       "        vertical-align: top;\n",
       "    }\n",
       "\n",
       "    .dataframe thead th {\n",
       "        text-align: right;\n",
       "    }\n",
       "</style>\n",
       "<table border=\"1\" class=\"dataframe\">\n",
       "  <thead>\n",
       "    <tr style=\"text-align: right;\">\n",
       "      <th></th>\n",
       "      <th>Feature</th>\n",
       "      <th>Datatype</th>\n",
       "    </tr>\n",
       "  </thead>\n",
       "  <tbody>\n",
       "    <tr>\n",
       "      <th>0</th>\n",
       "      <td>diabetes</td>\n",
       "      <td>categorical/int64</td>\n",
       "    </tr>\n",
       "    <tr>\n",
       "      <th>1</th>\n",
       "      <td>gender</td>\n",
       "      <td>categorical/object</td>\n",
       "    </tr>\n",
       "    <tr>\n",
       "      <th>2</th>\n",
       "      <td>age</td>\n",
       "      <td>continuous/float64</td>\n",
       "    </tr>\n",
       "    <tr>\n",
       "      <th>3</th>\n",
       "      <td>hypertension</td>\n",
       "      <td>categorical/int64</td>\n",
       "    </tr>\n",
       "    <tr>\n",
       "      <th>4</th>\n",
       "      <td>heart_disease</td>\n",
       "      <td>categorical/int64</td>\n",
       "    </tr>\n",
       "    <tr>\n",
       "      <th>5</th>\n",
       "      <td>smoking_history</td>\n",
       "      <td>categorical/object</td>\n",
       "    </tr>\n",
       "    <tr>\n",
       "      <th>6</th>\n",
       "      <td>bmi</td>\n",
       "      <td>continuous/float64</td>\n",
       "    </tr>\n",
       "    <tr>\n",
       "      <th>7</th>\n",
       "      <td>HbA1c_level</td>\n",
       "      <td>continuous/float64</td>\n",
       "    </tr>\n",
       "    <tr>\n",
       "      <th>8</th>\n",
       "      <td>blood_glucose_level</td>\n",
       "      <td>ordinal/int64</td>\n",
       "    </tr>\n",
       "  </tbody>\n",
       "</table>\n",
       "</div>"
      ],
      "text/plain": [
       "               Feature            Datatype\n",
       "0             diabetes   categorical/int64\n",
       "1               gender  categorical/object\n",
       "2                  age  continuous/float64\n",
       "3         hypertension   categorical/int64\n",
       "4        heart_disease   categorical/int64\n",
       "5      smoking_history  categorical/object\n",
       "6                  bmi  continuous/float64\n",
       "7          HbA1c_level  continuous/float64\n",
       "8  blood_glucose_level       ordinal/int64"
      ]
     },
     "execution_count": 12,
     "metadata": {},
     "output_type": "execute_result"
    }
   ],
   "source": [
    "diab_ds.summary()"
   ]
  },
  {
   "cell_type": "code",
   "execution_count": 13,
   "id": "b68e1a63",
   "metadata": {},
   "outputs": [
    {
     "data": {
      "text/plain": [
       "gender                 0\n",
       "age                    0\n",
       "hypertension           0\n",
       "heart_disease          0\n",
       "smoking_history        0\n",
       "bmi                    0\n",
       "HbA1c_level            0\n",
       "blood_glucose_level    0\n",
       "diabetes               0\n",
       "dtype: int64"
      ]
     },
     "execution_count": 13,
     "metadata": {},
     "output_type": "execute_result"
    }
   ],
   "source": [
    "diab_ds.isna().sum()"
   ]
  },
  {
   "cell_type": "code",
   "execution_count": 14,
   "id": "ad866f57",
   "metadata": {},
   "outputs": [
    {
     "data": {
      "text/plain": [
       "(96146, 9)"
      ]
     },
     "execution_count": 14,
     "metadata": {},
     "output_type": "execute_result"
    }
   ],
   "source": [
    "diab_without_dup = diab_ds.drop_duplicates()\n",
    "diab_without_dup.shape"
   ]
  },
  {
   "cell_type": "code",
   "execution_count": 15,
   "id": "84f0506b",
   "metadata": {},
   "outputs": [
    {
     "data": {
      "application/vnd.jupyter.widget-view+json": {
       "model_id": "2cc25cccc10b480b89aefa5e40b6a386",
       "version_major": 2,
       "version_minor": 0
      },
      "text/plain": [
       "Accordion(children=(HTML(value='<h1>Name: User Provided DataFrame</h1><h3>Type: BinaryClassificationDataset</h…"
      ]
     },
     "metadata": {},
     "output_type": "display_data"
    }
   ],
   "source": [
    "diab_ds.show_in_notebook()"
   ]
  },
  {
   "cell_type": "code",
   "execution_count": 18,
   "id": "25f8f0b5",
   "metadata": {
    "scrolled": true
   },
   "outputs": [
    {
     "data": {
      "application/vnd.jupyter.widget-view+json": {
       "model_id": "71a5c92699df449e9b5875cee69a45e3",
       "version_major": 2,
       "version_minor": 0
      },
      "text/plain": [
       "Output()"
      ]
     },
     "metadata": {},
     "output_type": "display_data"
    },
    {
     "data": {
      "text/html": [],
      "text/plain": [
       "<ads.dataset.recommendation.Recommendation at 0x7fc293943d30>"
      ]
     },
     "execution_count": 18,
     "metadata": {},
     "output_type": "execute_result"
    }
   ],
   "source": [
    "diab_ds.get_recommendations()"
   ]
  },
  {
   "cell_type": "code",
   "execution_count": 21,
   "id": "ac1f2624",
   "metadata": {},
   "outputs": [
    {
     "data": {
      "text/html": [
       "\n",
       "        <style>\n",
       "            .mostly-customized-scrollbar {\n",
       "              display: block;\n",
       "              width: 100%;\n",
       "              overflow: auto;\n",
       "            }\n",
       "\n",
       "            .mostly-customized-scrollbar::-webkit-scrollbar {\n",
       "              width: 5px;\n",
       "              height: 8px;\n",
       "              background-color: #aaa;\n",
       "            }\n",
       "\n",
       "            .mostly-customized-scrollbar::-webkit-scrollbar-thumb {\n",
       "                background: #000;\n",
       "                border-radius: 10px;\n",
       "            }\n",
       "        </style>\n",
       "\n",
       "        <div style=\"width=100%; display: flex; flex-wrap: nowrap; overflow-x: auto;\">\n",
       "            <div class=\"mostly-customized-scrollbar\">\n",
       "                <style type=\"text/css\">\n",
       "#T_d3390 tbody tr:nth-child(even) {\n",
       "  background-color: #F8F8F8;\n",
       "}\n",
       "#T_d3390 tbody tr:hover {\n",
       "  background-color: #D9EDFD;\n",
       "}\n",
       "#T_d3390 th {\n",
       "  font-size: 12px;\n",
       "  text-align: center;\n",
       "  font-weight: bold;\n",
       "  background-color: #D3D3D3;\n",
       "  padding-left: 5px;\n",
       "  padding-right: 5px;\n",
       "  text-align: right;\n",
       "}\n",
       "#T_d3390 td {\n",
       "  font-size: 12px;\n",
       "  text_wrap: False;\n",
       "  white-space: nowrap;\n",
       "  overflow: hidden;\n",
       "  text-overflow: ellipsis;\n",
       "  max-width: 75px;\n",
       "}\n",
       "</style>\n",
       "<table id=\"T_d3390\" class=table>\n",
       "  <thead>\n",
       "    <tr>\n",
       "      <th id=\"T_d3390_level0_col0\" class=\"col_heading level0 col0\" >diabetes</th>\n",
       "      <th id=\"T_d3390_level0_col1\" class=\"col_heading level0 col1\" >gender</th>\n",
       "      <th id=\"T_d3390_level0_col2\" class=\"col_heading level0 col2\" >age</th>\n",
       "      <th id=\"T_d3390_level0_col3\" class=\"col_heading level0 col3\" >hypertension</th>\n",
       "      <th id=\"T_d3390_level0_col4\" class=\"col_heading level0 col4\" >heart_disease</th>\n",
       "      <th id=\"T_d3390_level0_col5\" class=\"col_heading level0 col5\" >smoking_history</th>\n",
       "      <th id=\"T_d3390_level0_col6\" class=\"col_heading level0 col6\" >bmi</th>\n",
       "      <th id=\"T_d3390_level0_col7\" class=\"col_heading level0 col7\" >HbA1c_level</th>\n",
       "      <th id=\"T_d3390_level0_col8\" class=\"col_heading level0 col8\" >blood_glucose_level</th>\n",
       "    </tr>\n",
       "  </thead>\n",
       "  <tbody>\n",
       "    <tr>\n",
       "      <td id=\"T_d3390_row0_col0\" class=\"data row0 col0\" >0</td>\n",
       "      <td id=\"T_d3390_row0_col1\" class=\"data row0 col1\" >Female</td>\n",
       "      <td id=\"T_d3390_row0_col2\" class=\"data row0 col2\" >13.000000</td>\n",
       "      <td id=\"T_d3390_row0_col3\" class=\"data row0 col3\" >0</td>\n",
       "      <td id=\"T_d3390_row0_col4\" class=\"data row0 col4\" >0</td>\n",
       "      <td id=\"T_d3390_row0_col5\" class=\"data row0 col5\" >No Info</td>\n",
       "      <td id=\"T_d3390_row0_col6\" class=\"data row0 col6\" >20.820000</td>\n",
       "      <td id=\"T_d3390_row0_col7\" class=\"data row0 col7\" >5.800000</td>\n",
       "      <td id=\"T_d3390_row0_col8\" class=\"data row0 col8\" >126</td>\n",
       "    </tr>\n",
       "    <tr>\n",
       "      <td id=\"T_d3390_row1_col0\" class=\"data row1 col0\" >0</td>\n",
       "      <td id=\"T_d3390_row1_col1\" class=\"data row1 col1\" >Female</td>\n",
       "      <td id=\"T_d3390_row1_col2\" class=\"data row1 col2\" >3.000000</td>\n",
       "      <td id=\"T_d3390_row1_col3\" class=\"data row1 col3\" >0</td>\n",
       "      <td id=\"T_d3390_row1_col4\" class=\"data row1 col4\" >0</td>\n",
       "      <td id=\"T_d3390_row1_col5\" class=\"data row1 col5\" >No Info</td>\n",
       "      <td id=\"T_d3390_row1_col6\" class=\"data row1 col6\" >21.000000</td>\n",
       "      <td id=\"T_d3390_row1_col7\" class=\"data row1 col7\" >5.000000</td>\n",
       "      <td id=\"T_d3390_row1_col8\" class=\"data row1 col8\" >145</td>\n",
       "    </tr>\n",
       "    <tr>\n",
       "      <td id=\"T_d3390_row2_col0\" class=\"data row2 col0\" >0</td>\n",
       "      <td id=\"T_d3390_row2_col1\" class=\"data row2 col1\" >Male</td>\n",
       "      <td id=\"T_d3390_row2_col2\" class=\"data row2 col2\" >63.000000</td>\n",
       "      <td id=\"T_d3390_row2_col3\" class=\"data row2 col3\" >0</td>\n",
       "      <td id=\"T_d3390_row2_col4\" class=\"data row2 col4\" >0</td>\n",
       "      <td id=\"T_d3390_row2_col5\" class=\"data row2 col5\" >former</td>\n",
       "      <td id=\"T_d3390_row2_col6\" class=\"data row2 col6\" >25.320000</td>\n",
       "      <td id=\"T_d3390_row2_col7\" class=\"data row2 col7\" >3.500000</td>\n",
       "      <td id=\"T_d3390_row2_col8\" class=\"data row2 col8\" >200</td>\n",
       "    </tr>\n",
       "    <tr>\n",
       "      <td id=\"T_d3390_row3_col0\" class=\"data row3 col0\" >0</td>\n",
       "      <td id=\"T_d3390_row3_col1\" class=\"data row3 col1\" >Female</td>\n",
       "      <td id=\"T_d3390_row3_col2\" class=\"data row3 col2\" >2.000000</td>\n",
       "      <td id=\"T_d3390_row3_col3\" class=\"data row3 col3\" >0</td>\n",
       "      <td id=\"T_d3390_row3_col4\" class=\"data row3 col4\" >0</td>\n",
       "      <td id=\"T_d3390_row3_col5\" class=\"data row3 col5\" >never</td>\n",
       "      <td id=\"T_d3390_row3_col6\" class=\"data row3 col6\" >17.430000</td>\n",
       "      <td id=\"T_d3390_row3_col7\" class=\"data row3 col7\" >6.100000</td>\n",
       "      <td id=\"T_d3390_row3_col8\" class=\"data row3 col8\" >126</td>\n",
       "    </tr>\n",
       "    <tr>\n",
       "      <td id=\"T_d3390_row4_col0\" class=\"data row4 col0\" >1</td>\n",
       "      <td id=\"T_d3390_row4_col1\" class=\"data row4 col1\" >Female</td>\n",
       "      <td id=\"T_d3390_row4_col2\" class=\"data row4 col2\" >33.000000</td>\n",
       "      <td id=\"T_d3390_row4_col3\" class=\"data row4 col3\" >0</td>\n",
       "      <td id=\"T_d3390_row4_col4\" class=\"data row4 col4\" >0</td>\n",
       "      <td id=\"T_d3390_row4_col5\" class=\"data row4 col5\" >not current</td>\n",
       "      <td id=\"T_d3390_row4_col6\" class=\"data row4 col6\" >40.080000</td>\n",
       "      <td id=\"T_d3390_row4_col7\" class=\"data row4 col7\" >6.200000</td>\n",
       "      <td id=\"T_d3390_row4_col8\" class=\"data row4 col8\" >200</td>\n",
       "    </tr>\n",
       "  </tbody>\n",
       "</table>\n",
       "\n",
       "            </div>\n",
       "        </div>\n",
       "    "
      ],
      "text/plain": [
       "<IPython.core.display.HTML object>"
      ]
     },
     "metadata": {},
     "output_type": "display_data"
    },
    {
     "data": {
      "text/plain": [
       "BinaryClassificationDataset(target: diabetes) 100,000 rows, 9 columns"
      ]
     },
     "execution_count": 21,
     "metadata": {},
     "output_type": "execute_result"
    }
   ],
   "source": [
    "diab_ds"
   ]
  },
  {
   "cell_type": "code",
   "execution_count": 19,
   "id": "e3ec1db1",
   "metadata": {},
   "outputs": [
    {
     "data": {
      "text/html": [
       "\n",
       "        <style>\n",
       "            .mostly-customized-scrollbar {\n",
       "              display: block;\n",
       "              width: 100%;\n",
       "              overflow: auto;\n",
       "            }\n",
       "\n",
       "            .mostly-customized-scrollbar::-webkit-scrollbar {\n",
       "              width: 5px;\n",
       "              height: 8px;\n",
       "              background-color: #aaa;\n",
       "            }\n",
       "\n",
       "            .mostly-customized-scrollbar::-webkit-scrollbar-thumb {\n",
       "                background: #000;\n",
       "                border-radius: 10px;\n",
       "            }\n",
       "        </style>\n",
       "\n",
       "        <div style=\"width=100%; display: flex; flex-wrap: nowrap; overflow-x: auto;\">\n",
       "            <div class=\"mostly-customized-scrollbar\">\n",
       "                <style type=\"text/css\">\n",
       "#T_00d73 tbody tr:nth-child(even) {\n",
       "  background-color: #F8F8F8;\n",
       "}\n",
       "#T_00d73 tbody tr:hover {\n",
       "  background-color: #D9EDFD;\n",
       "}\n",
       "#T_00d73 th {\n",
       "  font-size: 12px;\n",
       "  text-align: center;\n",
       "  font-weight: bold;\n",
       "  background-color: #D3D3D3;\n",
       "  padding-left: 5px;\n",
       "  padding-right: 5px;\n",
       "  text-align: right;\n",
       "}\n",
       "#T_00d73 td {\n",
       "  font-size: 12px;\n",
       "  text_wrap: False;\n",
       "  white-space: nowrap;\n",
       "  overflow: hidden;\n",
       "  text-overflow: ellipsis;\n",
       "  max-width: 75px;\n",
       "}\n",
       "</style>\n",
       "<table id=\"T_00d73\" class=table>\n",
       "  <thead>\n",
       "    <tr>\n",
       "      <th id=\"T_00d73_level0_col0\" class=\"col_heading level0 col0\" >diabetes</th>\n",
       "      <th id=\"T_00d73_level0_col1\" class=\"col_heading level0 col1\" >blood_glucose_level</th>\n",
       "      <th id=\"T_00d73_level0_col2\" class=\"col_heading level0 col2\" >HbA1c_level</th>\n",
       "      <th id=\"T_00d73_level0_col3\" class=\"col_heading level0 col3\" >age</th>\n",
       "      <th id=\"T_00d73_level0_col4\" class=\"col_heading level0 col4\" >bmi</th>\n",
       "      <th id=\"T_00d73_level0_col5\" class=\"col_heading level0 col5\" >hypertension</th>\n",
       "      <th id=\"T_00d73_level0_col6\" class=\"col_heading level0 col6\" >heart_disease</th>\n",
       "      <th id=\"T_00d73_level0_col7\" class=\"col_heading level0 col7\" >smoking_history</th>\n",
       "      <th id=\"T_00d73_level0_col8\" class=\"col_heading level0 col8\" >gender</th>\n",
       "    </tr>\n",
       "  </thead>\n",
       "  <tbody>\n",
       "    <tr>\n",
       "      <td id=\"T_00d73_row0_col0\" class=\"data row0 col0\" >0</td>\n",
       "      <td id=\"T_00d73_row0_col1\" class=\"data row0 col1\" >126</td>\n",
       "      <td id=\"T_00d73_row0_col2\" class=\"data row0 col2\" >5.800000</td>\n",
       "      <td id=\"T_00d73_row0_col3\" class=\"data row0 col3\" >13.000000</td>\n",
       "      <td id=\"T_00d73_row0_col4\" class=\"data row0 col4\" >20.820000</td>\n",
       "      <td id=\"T_00d73_row0_col5\" class=\"data row0 col5\" >0</td>\n",
       "      <td id=\"T_00d73_row0_col6\" class=\"data row0 col6\" >0</td>\n",
       "      <td id=\"T_00d73_row0_col7\" class=\"data row0 col7\" >No Info</td>\n",
       "      <td id=\"T_00d73_row0_col8\" class=\"data row0 col8\" >Female</td>\n",
       "    </tr>\n",
       "    <tr>\n",
       "      <td id=\"T_00d73_row1_col0\" class=\"data row1 col0\" >0</td>\n",
       "      <td id=\"T_00d73_row1_col1\" class=\"data row1 col1\" >145</td>\n",
       "      <td id=\"T_00d73_row1_col2\" class=\"data row1 col2\" >5.000000</td>\n",
       "      <td id=\"T_00d73_row1_col3\" class=\"data row1 col3\" >3.000000</td>\n",
       "      <td id=\"T_00d73_row1_col4\" class=\"data row1 col4\" >21.000000</td>\n",
       "      <td id=\"T_00d73_row1_col5\" class=\"data row1 col5\" >0</td>\n",
       "      <td id=\"T_00d73_row1_col6\" class=\"data row1 col6\" >0</td>\n",
       "      <td id=\"T_00d73_row1_col7\" class=\"data row1 col7\" >No Info</td>\n",
       "      <td id=\"T_00d73_row1_col8\" class=\"data row1 col8\" >Female</td>\n",
       "    </tr>\n",
       "    <tr>\n",
       "      <td id=\"T_00d73_row2_col0\" class=\"data row2 col0\" >0</td>\n",
       "      <td id=\"T_00d73_row2_col1\" class=\"data row2 col1\" >200</td>\n",
       "      <td id=\"T_00d73_row2_col2\" class=\"data row2 col2\" >3.500000</td>\n",
       "      <td id=\"T_00d73_row2_col3\" class=\"data row2 col3\" >63.000000</td>\n",
       "      <td id=\"T_00d73_row2_col4\" class=\"data row2 col4\" >25.320000</td>\n",
       "      <td id=\"T_00d73_row2_col5\" class=\"data row2 col5\" >0</td>\n",
       "      <td id=\"T_00d73_row2_col6\" class=\"data row2 col6\" >0</td>\n",
       "      <td id=\"T_00d73_row2_col7\" class=\"data row2 col7\" >former</td>\n",
       "      <td id=\"T_00d73_row2_col8\" class=\"data row2 col8\" >Male</td>\n",
       "    </tr>\n",
       "    <tr>\n",
       "      <td id=\"T_00d73_row3_col0\" class=\"data row3 col0\" >0</td>\n",
       "      <td id=\"T_00d73_row3_col1\" class=\"data row3 col1\" >126</td>\n",
       "      <td id=\"T_00d73_row3_col2\" class=\"data row3 col2\" >6.100000</td>\n",
       "      <td id=\"T_00d73_row3_col3\" class=\"data row3 col3\" >2.000000</td>\n",
       "      <td id=\"T_00d73_row3_col4\" class=\"data row3 col4\" >17.430000</td>\n",
       "      <td id=\"T_00d73_row3_col5\" class=\"data row3 col5\" >0</td>\n",
       "      <td id=\"T_00d73_row3_col6\" class=\"data row3 col6\" >0</td>\n",
       "      <td id=\"T_00d73_row3_col7\" class=\"data row3 col7\" >never</td>\n",
       "      <td id=\"T_00d73_row3_col8\" class=\"data row3 col8\" >Female</td>\n",
       "    </tr>\n",
       "    <tr>\n",
       "      <td id=\"T_00d73_row4_col0\" class=\"data row4 col0\" >1</td>\n",
       "      <td id=\"T_00d73_row4_col1\" class=\"data row4 col1\" >200</td>\n",
       "      <td id=\"T_00d73_row4_col2\" class=\"data row4 col2\" >6.200000</td>\n",
       "      <td id=\"T_00d73_row4_col3\" class=\"data row4 col3\" >33.000000</td>\n",
       "      <td id=\"T_00d73_row4_col4\" class=\"data row4 col4\" >40.080000</td>\n",
       "      <td id=\"T_00d73_row4_col5\" class=\"data row4 col5\" >0</td>\n",
       "      <td id=\"T_00d73_row4_col6\" class=\"data row4 col6\" >0</td>\n",
       "      <td id=\"T_00d73_row4_col7\" class=\"data row4 col7\" >not current</td>\n",
       "      <td id=\"T_00d73_row4_col8\" class=\"data row4 col8\" >Female</td>\n",
       "    </tr>\n",
       "  </tbody>\n",
       "</table>\n",
       "\n",
       "            </div>\n",
       "        </div>\n",
       "    "
      ],
      "text/plain": [
       "<IPython.core.display.HTML object>"
      ]
     },
     "metadata": {},
     "output_type": "display_data"
    },
    {
     "data": {
      "text/plain": [
       "BinaryClassificationDataset(target: diabetes) 100,000 rows, 9 columns"
      ]
     },
     "execution_count": 19,
     "metadata": {},
     "output_type": "execute_result"
    }
   ],
   "source": [
    "diab_ds.select_best_features()"
   ]
  },
  {
   "cell_type": "code",
   "execution_count": null,
   "id": "3f12303c",
   "metadata": {},
   "outputs": [],
   "source": []
  }
 ],
 "metadata": {
  "kernelspec": {
   "display_name": "Python 3",
   "language": "python",
   "name": "python3"
  },
  "language_info": {
   "codemirror_mode": {
    "name": "ipython",
    "version": 3
   },
   "file_extension": ".py",
   "mimetype": "text/x-python",
   "name": "python",
   "nbconvert_exporter": "python",
   "pygments_lexer": "ipython3",
   "version": "3.8.8"
  }
 },
 "nbformat": 4,
 "nbformat_minor": 5
}
