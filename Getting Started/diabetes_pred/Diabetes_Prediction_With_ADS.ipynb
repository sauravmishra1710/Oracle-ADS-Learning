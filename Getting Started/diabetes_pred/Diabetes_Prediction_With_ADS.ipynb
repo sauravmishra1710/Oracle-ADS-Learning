{
 "cells": [
  {
   "cell_type": "markdown",
   "id": "53f6593f",
   "metadata": {},
   "source": [
    "\n",
    "# Data Preprocessing with ADS - Diabetes Dataset\n",
    "\n",
    "## Overview of this Notebook\n",
    "\n",
    "`Data is the most important element in any data science project`.\n",
    "\n",
    "Data Preparations for training any ML model involves Data Transformations and Manipulations. This is the most important phase and takes 80% of the time in the life cycle of any ML Model. The real world data is mostly incomplete, and has several missing values. Missing values can be because of the unavailability of data or inconsistency present in the data. There might be several errors and outliers present in the data. \n",
    "Preprocessing of data involves various steps - \n",
    "\n",
    "1. Combining attributes or columns  \n",
    "2. Data Imputation\n",
    "3. Data Cleaning\n",
    "4. Dummy Variables Encoding\n",
    "5. Outlier Detection\n",
    "6. Feature Scaling\n",
    "7. Feature Engineering\n",
    "8. Feature Selection\n",
    "9. Feature Extraction.\n",
    "\n",
    "This notebook will demonstrate the core functionality of the Dataset Factory class. In this notebook, you will learn some of the many ways to clean and transform data in an `ADSDatasetFactory` Object.\n",
    "When datasets are loaded with DatasetFactory, they can be transformed and manipulated easily with the built-in functions. Underlying, an ADSDataset object is a Pandas dataframe. Any operation that can be performed to a Pandas dataframe can also be applied to an ADS Dataset."
   ]
  },
  {
   "cell_type": "code",
   "execution_count": null,
   "id": "f5c07c42",
   "metadata": {},
   "outputs": [],
   "source": [
    "import ads\n",
    "import logging\n",
    "import numpy as np\n",
    "import os\n",
    "import pandas as pd\n",
    "import shutil\n",
    "import tempfile\n",
    "import warnings\n",
    "\n",
    "from ads.dataset.dataset_browser import DatasetBrowser\n",
    "from ads.dataset.factory import DatasetFactory\n",
    "from ads.common.data import ADSData\n",
    "from ads.common.model import ADSModel\n",
    "from os import path\n",
    "from sqlalchemy import create_engine\n",
    "import seaborn as sns\n",
    "from sklearn.base import TransformerMixin\n",
    "from sklearn.ensemble import RandomForestClassifier\n",
    "from sklearn.tree import DecisionTreeClassifier\n",
    "from sklearn.pipeline import make_pipeline\n",
    "from sklearn.preprocessing import LabelEncoder\n",
    "#from sklearn.model_selection import GridSearchCV\n",
    "#from sklearn.metrics import get_scorer\n",
    "from collections import defaultdict\n",
    "from ads.evaluations.evaluator import ADSEvaluator\n",
    "#from ads.explanations.explainer import ADSExplainer\n",
    "\n",
    "from ads.dataset.dataset_browser import DatasetBrowser\n",
    "#from ads.feature_engineering import feature_type_manager, FeatureType\n",
    "import matplotlib.pyplot as plt\n",
    "from os import path\n",
    "\n",
    "warnings.filterwarnings('ignore')\n",
    "logging.basicConfig(format='%(levelname)s:%(message)s', level=logging.ERROR)"
   ]
  },
  {
   "cell_type": "code",
   "execution_count": null,
   "id": "4227d3b1",
   "metadata": {},
   "outputs": [],
   "source": [
    "print(ads.__version__)"
   ]
  },
  {
   "cell_type": "code",
   "execution_count": null,
   "id": "030deecf",
   "metadata": {},
   "outputs": [],
   "source": [
    "diab = pd.read_csv('diabetes_prediction_dataset.csv')"
   ]
  },
  {
   "cell_type": "code",
   "execution_count": null,
   "id": "29c4732a",
   "metadata": {},
   "outputs": [],
   "source": [
    "diab_ds = DatasetFactory.from_dataframe(pd.DataFrame(diab), target = 'diabetes')"
   ]
  },
  {
   "cell_type": "code",
   "execution_count": null,
   "id": "33aaf38f",
   "metadata": {
    "scrolled": true
   },
   "outputs": [],
   "source": [
    "type(diab_ds)"
   ]
  },
  {
   "cell_type": "markdown",
   "id": "d92619ca",
   "metadata": {},
   "source": [
    "The ADSDataset object cannot be used for classification or regression problems `until a target has been set using set_target`.\n",
    "This datasets is of type Binary Classification Dataset."
   ]
  },
  {
   "cell_type": "code",
   "execution_count": null,
   "id": "f6debf95",
   "metadata": {},
   "outputs": [],
   "source": [
    "diab_ds.head()"
   ]
  },
  {
   "cell_type": "code",
   "execution_count": null,
   "id": "55a14c69",
   "metadata": {},
   "outputs": [],
   "source": [
    "diab_ds.shape"
   ]
  },
  {
   "cell_type": "code",
   "execution_count": null,
   "id": "c2740712",
   "metadata": {},
   "outputs": [],
   "source": [
    "diab_ds.summary()"
   ]
  },
  {
   "cell_type": "markdown",
   "id": "fd12cf61",
   "metadata": {},
   "source": [
    "### Remove Duplicate Rows\n",
    "\n",
    "Having duplicate rows is a pain, as it will slow down your model training, without any actual gain. And therefore, we need to remove duplicates. We can call the `drop_duplicates` function to return a dataset with all of the duplicates removed."
   ]
  },
  {
   "cell_type": "code",
   "execution_count": null,
   "id": "b68e1a63",
   "metadata": {},
   "outputs": [],
   "source": [
    "diab_ds.isna().sum()"
   ]
  },
  {
   "cell_type": "code",
   "execution_count": null,
   "id": "ad866f57",
   "metadata": {},
   "outputs": [],
   "source": [
    "diab_without_dup = diab_ds.drop_duplicates()\n",
    "diab_without_dup.shape"
   ]
  },
  {
   "cell_type": "markdown",
   "id": "17e79325",
   "metadata": {},
   "source": [
    "\n",
    "## show_in_notebook()\n",
    "ADS offers a smart visualization tool that automatically detects the type of your data columns and offers the best way to plot your data. You can also create custom visualizations with ADS by using your preferred plotting libraries and packages. The correlation plot gives an idea on totally correlated pairwise attributes. `Highly correlated attributes contribute less to decision making`. So it is better to avoid those attributes. So the transformed dataset ensures that such attributes are avoided. The drop column feature drops those columns which are correlated. **`show_in_notebook()`** shows these correlations in the form of heatmaps. \n",
    "The ADS show_in_notebook() method creates a comprehensive preview of all the basic information about a dataset including:\n",
    "\n",
    "a. The predictive data type (for example, regression, binary classification, or multinomial classification).\n",
    "\n",
    "b. The number of columns and rows.\n",
    "\n",
    "c. Feature type information.\n",
    "\n",
    "d. Summary visualization of each feature.\n",
    "\n",
    "e. The correlation map.\n",
    "\n",
    "f. Any warnings about data conditions that you should be aware of.\n",
    "\n",
    "To improve plotting performance, the ADS show_in_notebook() method uses an optimized subset of the data. This smart sample is selected so that it is statistically representative of the full dataset. The correlation map is only displayed when the data only has numerical (continuous or oridinal) columns.\n",
    "The warnings in this case is the presence of null values for pregancies, insulin, skinthickness and outcome. This can be ignored because for this dataset this is not indicative of missing values.\n",
    "The show_in_notebook() option shows 4 warnings. Pregnancies, SkinThicknes, Insulin, Outcome has zeros. Out of this, Outcome is the target variable. The other 3 attributes are just categorical which displays the presence or absence of Pregnancies, Insulin usage and SkinThickness. So this warning can be ignorned"
   ]
  },
  {
   "cell_type": "code",
   "execution_count": null,
   "id": "84f0506b",
   "metadata": {},
   "outputs": [],
   "source": [
    "diab_ds.show_in_notebook()"
   ]
  },
  {
   "cell_type": "markdown",
   "id": "00f7e4ed",
   "metadata": {},
   "source": [
    "## get_recommendations()\n",
    "ADS provides built-in automatic transformation tools for datasets. These tools help detect issues with the data and recommend changes to improve the dataset. The recommended changes can be accepted by clicking a button in the drop-down menu. Once the changes are applied, the transformed dataset can be retrieved using the get_transformed_dataset() method.\n",
    "\n",
    "To access the recommendations, you can use the get_recommendations() method on the ADSDataset object:"
   ]
  },
  {
   "cell_type": "code",
   "execution_count": null,
   "id": "25f8f0b5",
   "metadata": {
    "scrolled": true
   },
   "outputs": [],
   "source": [
    "diab_ds.get_recommendations()"
   ]
  },
  {
   "cell_type": "markdown",
   "id": "6d61fbbb",
   "metadata": {},
   "source": [
    "## get_transformed_dataset()\n",
    "\n",
    "Return the transformed dataset with the recommendations applied.\n",
    "\n",
    "This method should be called after applying the recommendations using the recommendation `show_in_notebook()` API."
   ]
  },
  {
   "cell_type": "code",
   "execution_count": null,
   "id": "78511d87",
   "metadata": {},
   "outputs": [],
   "source": [
    "diab_ds.get_transformed_dataset()"
   ]
  },
  {
   "cell_type": "markdown",
   "id": "accbaa4d",
   "metadata": {},
   "source": [
    "## Automated Transformations\n",
    "\n",
    "Automatically chooses the most effective dataset transformation.\n",
    "\n",
    "Alternatively, you can use auto_transform() to apply all the recommended transformations at once. auto_transform() returns a transformed dataset with several optimizations applied automatically. The optimizations include:\n",
    "\n",
    "- Dropping constant and primary key columns, which has no predictive quality.\n",
    "\n",
    "- Imputation to fill in missing values in noisy data.\n",
    "\n",
    "- Dropping strongly co-correlated columns that tend to produce less generalizable models.\n",
    "\n",
    "- Balancing a dataset using up or down sampling.\n",
    "\n",
    "One optional argument to auto_transform() is `fix_imbalance`, which is set to `True` by default. When True, auto_transform() corrects any imbalance between the classes. ADS downsamples the dominant class first unless there are too few data points. In that case, ADS upsamples the minority class."
   ]
  },
  {
   "cell_type": "code",
   "execution_count": null,
   "id": "3f12303c",
   "metadata": {},
   "outputs": [],
   "source": [
    "diab_ds.auto_transform()"
   ]
  },
  {
   "cell_type": "markdown",
   "id": "96b3f0bf",
   "metadata": {},
   "source": [
    "## select_best_features()\n",
    "\n",
    "Automatically chooses the best features and removes the rest."
   ]
  },
  {
   "cell_type": "code",
   "execution_count": null,
   "id": "e3ec1db1",
   "metadata": {
    "scrolled": true
   },
   "outputs": [],
   "source": [
    "diab_ds.select_best_features()"
   ]
  },
  {
   "cell_type": "code",
   "execution_count": null,
   "id": "6dd8689f",
   "metadata": {},
   "outputs": [],
   "source": []
  }
 ],
 "metadata": {
  "kernelspec": {
   "display_name": "Python 3",
   "language": "python",
   "name": "python3"
  },
  "language_info": {
   "codemirror_mode": {
    "name": "ipython",
    "version": 3
   },
   "file_extension": ".py",
   "mimetype": "text/x-python",
   "name": "python",
   "nbconvert_exporter": "python",
   "pygments_lexer": "ipython3",
   "version": "3.8.8"
  }
 },
 "nbformat": 4,
 "nbformat_minor": 5
}
