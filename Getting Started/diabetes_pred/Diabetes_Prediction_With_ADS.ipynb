{
 "cells": [
  {
   "cell_type": "markdown",
   "id": "59f17251",
   "metadata": {},
   "source": [
    "\n",
    "# Data Preprocessing with ADS - Diabetes Dataset\n",
    "\n",
    "## Overview of this Notebook\n",
    "\n",
    "`Data is the most important element in any data science project`.\n",
    "\n",
    "Data Preparations for training any ML model involves Data Transformations and Manipulations. This is the most important phase and takes 80% of the time in the life cycle of any ML Model. The real world data is mostly incomplete, and has several missing values. Missing values can be because of the unavailability of data or inconsistency present in the data. There might be several errors and outliers present in the data. \n",
    "Preprocessing of data involves various steps - \n",
    "\n",
    "1. Combining attributes or columns  \n",
    "2. Data Imputation\n",
    "3. Data Cleaning\n",
    "4. Dummy Variables Encoding\n",
    "5. Outlier Detection\n",
    "6. Feature Scaling\n",
    "7. Feature Engineering\n",
    "8. Feature Selection\n",
    "9. Feature Extraction.\n",
    "\n",
    "This notebook will demonstrate the core functionality of the Dataset Factory class. In this notebook, you will learn some of the many ways to clean and transform data in an `ADSDatasetFactory` Object.\n",
    "When datasets are loaded with DatasetFactory, they can be transformed and manipulated easily with the built-in functions. Underlying, an ADSDataset object is a Pandas dataframe. Any operation that can be performed to a Pandas dataframe can also be applied to an ADS Dataset."
   ]
  },
  {
   "cell_type": "code",
   "execution_count": 22,
   "id": "f5c07c42",
   "metadata": {},
   "outputs": [],
   "source": [
    "import ads\n",
    "import logging\n",
    "import numpy as np\n",
    "import os\n",
    "import pandas as pd\n",
    "import shutil\n",
    "import tempfile\n",
    "import warnings\n",
    "\n",
    "from ads.dataset.dataset_browser import DatasetBrowser\n",
    "from ads.dataset.factory import DatasetFactory\n",
    "from ads.common.data import ADSData\n",
    "from ads.common.model import ADSModel\n",
    "from os import path\n",
    "from sqlalchemy import create_engine\n",
    "import seaborn as sns\n",
    "from sklearn.base import TransformerMixin\n",
    "from sklearn.ensemble import RandomForestClassifier\n",
    "from sklearn.tree import DecisionTreeClassifier\n",
    "from sklearn.pipeline import make_pipeline\n",
    "from sklearn.preprocessing import LabelEncoder\n",
    "from sklearn.preprocessing import OrdinalEncoder\n",
    "#from sklearn.model_selection import GridSearchCV\n",
    "#from sklearn.metrics import get_scorer\n",
    "from collections import defaultdict\n",
    "from ads.evaluations.evaluator import ADSEvaluator\n",
    "#from ads.explanations.explainer import ADSExplainer\n",
    "\n",
    "from ads.dataset.dataset_browser import DatasetBrowser\n",
    "#from ads.feature_engineering import feature_type_manager, FeatureType\n",
    "import matplotlib.pyplot as plt\n",
    "from os import path\n",
    "\n",
    "warnings.filterwarnings('ignore')\n",
    "logging.basicConfig(format='%(levelname)s:%(message)s', level=logging.ERROR)"
   ]
  },
  {
   "cell_type": "code",
   "execution_count": 2,
   "id": "4227d3b1",
   "metadata": {},
   "outputs": [
    {
     "name": "stdout",
     "output_type": "stream",
     "text": [
      "2.8.8\n"
     ]
    }
   ],
   "source": [
    "print(ads.__version__)"
   ]
  },
  {
   "cell_type": "code",
   "execution_count": 3,
   "id": "030deecf",
   "metadata": {},
   "outputs": [],
   "source": [
    "diab = pd.read_csv('diabetes_prediction_dataset.csv')"
   ]
  },
  {
   "cell_type": "code",
   "execution_count": 4,
   "id": "29c4732a",
   "metadata": {},
   "outputs": [
    {
     "data": {
      "application/vnd.jupyter.widget-view+json": {
       "model_id": "acf30e7571cc4942999eb47d71e8bf01",
       "version_major": 2,
       "version_minor": 0
      },
      "text/plain": [
       "loop1:   0%|          | 0/4 [00:00<?, ?it/s]"
      ]
     },
     "metadata": {},
     "output_type": "display_data"
    }
   ],
   "source": [
    "diab_ds = DatasetFactory.from_dataframe(pd.DataFrame(diab), target = 'diabetes')"
   ]
  },
  {
   "cell_type": "code",
   "execution_count": 5,
   "id": "9538477a",
   "metadata": {
    "scrolled": true
   },
   "outputs": [
    {
     "data": {
      "text/plain": [
       "ads.dataset.classification_dataset.BinaryClassificationDataset"
      ]
     },
     "execution_count": 5,
     "metadata": {},
     "output_type": "execute_result"
    }
   ],
   "source": [
    "type(diab_ds)"
   ]
  },
  {
   "cell_type": "markdown",
   "id": "f83b4329",
   "metadata": {},
   "source": [
    "The ADSDataset object cannot be used for classification or regression problems `until a target has been set using set_target`.\n",
    "This datasets is of type Binary Classification Dataset."
   ]
  },
  {
   "cell_type": "code",
   "execution_count": 6,
   "id": "f6debf95",
   "metadata": {},
   "outputs": [
    {
     "data": {
      "text/html": [
       "<div>\n",
       "<style scoped>\n",
       "    .dataframe tbody tr th:only-of-type {\n",
       "        vertical-align: middle;\n",
       "    }\n",
       "\n",
       "    .dataframe tbody tr th {\n",
       "        vertical-align: top;\n",
       "    }\n",
       "\n",
       "    .dataframe thead th {\n",
       "        text-align: right;\n",
       "    }\n",
       "</style>\n",
       "<table border=\"1\" class=\"dataframe\">\n",
       "  <thead>\n",
       "    <tr style=\"text-align: right;\">\n",
       "      <th></th>\n",
       "      <th>gender</th>\n",
       "      <th>age</th>\n",
       "      <th>hypertension</th>\n",
       "      <th>heart_disease</th>\n",
       "      <th>smoking_history</th>\n",
       "      <th>bmi</th>\n",
       "      <th>HbA1c_level</th>\n",
       "      <th>blood_glucose_level</th>\n",
       "      <th>diabetes</th>\n",
       "    </tr>\n",
       "  </thead>\n",
       "  <tbody>\n",
       "    <tr>\n",
       "      <th>0</th>\n",
       "      <td>Female</td>\n",
       "      <td>80.0</td>\n",
       "      <td>0</td>\n",
       "      <td>1</td>\n",
       "      <td>never</td>\n",
       "      <td>25.19</td>\n",
       "      <td>6.6</td>\n",
       "      <td>140</td>\n",
       "      <td>0</td>\n",
       "    </tr>\n",
       "    <tr>\n",
       "      <th>1</th>\n",
       "      <td>Female</td>\n",
       "      <td>54.0</td>\n",
       "      <td>0</td>\n",
       "      <td>0</td>\n",
       "      <td>No Info</td>\n",
       "      <td>27.32</td>\n",
       "      <td>6.6</td>\n",
       "      <td>80</td>\n",
       "      <td>0</td>\n",
       "    </tr>\n",
       "    <tr>\n",
       "      <th>2</th>\n",
       "      <td>Male</td>\n",
       "      <td>28.0</td>\n",
       "      <td>0</td>\n",
       "      <td>0</td>\n",
       "      <td>never</td>\n",
       "      <td>27.32</td>\n",
       "      <td>5.7</td>\n",
       "      <td>158</td>\n",
       "      <td>0</td>\n",
       "    </tr>\n",
       "    <tr>\n",
       "      <th>3</th>\n",
       "      <td>Female</td>\n",
       "      <td>36.0</td>\n",
       "      <td>0</td>\n",
       "      <td>0</td>\n",
       "      <td>current</td>\n",
       "      <td>23.45</td>\n",
       "      <td>5.0</td>\n",
       "      <td>155</td>\n",
       "      <td>0</td>\n",
       "    </tr>\n",
       "    <tr>\n",
       "      <th>4</th>\n",
       "      <td>Male</td>\n",
       "      <td>76.0</td>\n",
       "      <td>1</td>\n",
       "      <td>1</td>\n",
       "      <td>current</td>\n",
       "      <td>20.14</td>\n",
       "      <td>4.8</td>\n",
       "      <td>155</td>\n",
       "      <td>0</td>\n",
       "    </tr>\n",
       "  </tbody>\n",
       "</table>\n",
       "</div>"
      ],
      "text/plain": [
       "   gender   age  hypertension  heart_disease smoking_history    bmi  \\\n",
       "0  Female  80.0             0              1           never  25.19   \n",
       "1  Female  54.0             0              0         No Info  27.32   \n",
       "2    Male  28.0             0              0           never  27.32   \n",
       "3  Female  36.0             0              0         current  23.45   \n",
       "4    Male  76.0             1              1         current  20.14   \n",
       "\n",
       "   HbA1c_level  blood_glucose_level  diabetes  \n",
       "0          6.6                  140         0  \n",
       "1          6.6                   80         0  \n",
       "2          5.7                  158         0  \n",
       "3          5.0                  155         0  \n",
       "4          4.8                  155         0  "
      ]
     },
     "execution_count": 6,
     "metadata": {},
     "output_type": "execute_result"
    }
   ],
   "source": [
    "diab_ds.head()"
   ]
  },
  {
   "cell_type": "code",
   "execution_count": 7,
   "id": "55a14c69",
   "metadata": {},
   "outputs": [
    {
     "data": {
      "text/plain": [
       "(100000, 9)"
      ]
     },
     "execution_count": 7,
     "metadata": {},
     "output_type": "execute_result"
    }
   ],
   "source": [
    "diab_ds.shape"
   ]
  },
  {
   "cell_type": "code",
   "execution_count": 8,
   "id": "c2740712",
   "metadata": {},
   "outputs": [
    {
     "data": {
      "text/html": [
       "<div>\n",
       "<style scoped>\n",
       "    .dataframe tbody tr th:only-of-type {\n",
       "        vertical-align: middle;\n",
       "    }\n",
       "\n",
       "    .dataframe tbody tr th {\n",
       "        vertical-align: top;\n",
       "    }\n",
       "\n",
       "    .dataframe thead th {\n",
       "        text-align: right;\n",
       "    }\n",
       "</style>\n",
       "<table border=\"1\" class=\"dataframe\">\n",
       "  <thead>\n",
       "    <tr style=\"text-align: right;\">\n",
       "      <th></th>\n",
       "      <th>Feature</th>\n",
       "      <th>Datatype</th>\n",
       "    </tr>\n",
       "  </thead>\n",
       "  <tbody>\n",
       "    <tr>\n",
       "      <th>0</th>\n",
       "      <td>diabetes</td>\n",
       "      <td>categorical/int64</td>\n",
       "    </tr>\n",
       "    <tr>\n",
       "      <th>1</th>\n",
       "      <td>gender</td>\n",
       "      <td>categorical/object</td>\n",
       "    </tr>\n",
       "    <tr>\n",
       "      <th>2</th>\n",
       "      <td>age</td>\n",
       "      <td>continuous/float64</td>\n",
       "    </tr>\n",
       "    <tr>\n",
       "      <th>3</th>\n",
       "      <td>hypertension</td>\n",
       "      <td>categorical/int64</td>\n",
       "    </tr>\n",
       "    <tr>\n",
       "      <th>4</th>\n",
       "      <td>heart_disease</td>\n",
       "      <td>categorical/int64</td>\n",
       "    </tr>\n",
       "    <tr>\n",
       "      <th>5</th>\n",
       "      <td>smoking_history</td>\n",
       "      <td>categorical/object</td>\n",
       "    </tr>\n",
       "    <tr>\n",
       "      <th>6</th>\n",
       "      <td>bmi</td>\n",
       "      <td>continuous/float64</td>\n",
       "    </tr>\n",
       "    <tr>\n",
       "      <th>7</th>\n",
       "      <td>HbA1c_level</td>\n",
       "      <td>continuous/float64</td>\n",
       "    </tr>\n",
       "    <tr>\n",
       "      <th>8</th>\n",
       "      <td>blood_glucose_level</td>\n",
       "      <td>ordinal/int64</td>\n",
       "    </tr>\n",
       "  </tbody>\n",
       "</table>\n",
       "</div>"
      ],
      "text/plain": [
       "               Feature            Datatype\n",
       "0             diabetes   categorical/int64\n",
       "1               gender  categorical/object\n",
       "2                  age  continuous/float64\n",
       "3         hypertension   categorical/int64\n",
       "4        heart_disease   categorical/int64\n",
       "5      smoking_history  categorical/object\n",
       "6                  bmi  continuous/float64\n",
       "7          HbA1c_level  continuous/float64\n",
       "8  blood_glucose_level       ordinal/int64"
      ]
     },
     "execution_count": 8,
     "metadata": {},
     "output_type": "execute_result"
    }
   ],
   "source": [
    "diab_ds.summary()"
   ]
  },
  {
   "cell_type": "code",
   "execution_count": 9,
   "id": "db01a89c",
   "metadata": {
    "scrolled": false
   },
   "outputs": [
    {
     "data": {
      "text/plain": [
       "{'diabetes': {\n",
       "   \"type\": \"categorical\",\n",
       "   \"low_level_type\": \"int64\",\n",
       "   \"missing_percentage\": 0.0,\n",
       "   \"stats\": {\n",
       "     \"unique percentage\": 0.02,\n",
       "     \"mode\": 0,\n",
       "     \"count\": 10000,\n",
       "     \"unique\": 2,\n",
       "     \"top\": 0,\n",
       "     \"freq\": 9137\n",
       "   },\n",
       "   \"feature_name\": \"diabetes\"\n",
       " },\n",
       " 'gender': {\n",
       "   \"type\": \"categorical\",\n",
       "   \"low_level_type\": \"object\",\n",
       "   \"missing_percentage\": 0.0,\n",
       "   \"stats\": {\n",
       "     \"unique percentage\": 0.02,\n",
       "     \"mode\": \"Female\",\n",
       "     \"count\": 10000,\n",
       "     \"unique\": 2,\n",
       "     \"top\": \"Female\",\n",
       "     \"freq\": 5919\n",
       "   },\n",
       "   \"feature_name\": \"gender\"\n",
       " },\n",
       " 'age': {\n",
       "   \"type\": \"continuous\",\n",
       "   \"missing_percentage\": 0.0,\n",
       "   \"low_level_type\": \"float64\",\n",
       "   \"stats\": {\n",
       "     \"mode\": 80.0,\n",
       "     \"median\": 42.0,\n",
       "     \"kurtosis\": -1.0117309856225845,\n",
       "     \"variance\": 509.96217323972166,\n",
       "     \"skewness\": -0.03795010636587615,\n",
       "     \"outlier_percentage\": 0.0,\n",
       "     \"count\": 10000.0,\n",
       "     \"mean\": 41.49323999999999,\n",
       "     \"std\": 22.582342067193157,\n",
       "     \"min\": 0.08,\n",
       "     \"25%\": 23.0,\n",
       "     \"50%\": 42.0,\n",
       "     \"75%\": 59.0,\n",
       "     \"max\": 80.0\n",
       "   },\n",
       "   \"feature_name\": \"age\"\n",
       " },\n",
       " 'hypertension': {\n",
       "   \"type\": \"categorical\",\n",
       "   \"low_level_type\": \"int64\",\n",
       "   \"missing_percentage\": 0.0,\n",
       "   \"stats\": {\n",
       "     \"unique percentage\": 0.02,\n",
       "     \"mode\": 0,\n",
       "     \"count\": 10000,\n",
       "     \"unique\": 2,\n",
       "     \"top\": 0,\n",
       "     \"freq\": 9263\n",
       "   },\n",
       "   \"feature_name\": \"hypertension\"\n",
       " },\n",
       " 'heart_disease': {\n",
       "   \"type\": \"categorical\",\n",
       "   \"low_level_type\": \"int64\",\n",
       "   \"missing_percentage\": 0.0,\n",
       "   \"stats\": {\n",
       "     \"unique percentage\": 0.02,\n",
       "     \"mode\": 0,\n",
       "     \"count\": 10000,\n",
       "     \"unique\": 2,\n",
       "     \"top\": 0,\n",
       "     \"freq\": 9634\n",
       "   },\n",
       "   \"feature_name\": \"heart_disease\"\n",
       " },\n",
       " 'smoking_history': {\n",
       "   \"type\": \"categorical\",\n",
       "   \"low_level_type\": \"object\",\n",
       "   \"missing_percentage\": 0.0,\n",
       "   \"stats\": {\n",
       "     \"unique percentage\": 0.06,\n",
       "     \"mode\": \"No Info\",\n",
       "     \"count\": 10000,\n",
       "     \"unique\": 6,\n",
       "     \"top\": \"No Info\",\n",
       "     \"freq\": 3589\n",
       "   },\n",
       "   \"feature_name\": \"smoking_history\"\n",
       " },\n",
       " 'bmi': {\n",
       "   \"type\": \"continuous\",\n",
       "   \"missing_percentage\": 0.0,\n",
       "   \"low_level_type\": \"float64\",\n",
       "   \"stats\": {\n",
       "     \"mode\": 27.32,\n",
       "     \"median\": 27.32,\n",
       "     \"kurtosis\": 5.51922679202136,\n",
       "     \"variance\": 45.585661211579755,\n",
       "     \"skewness\": 1.2525135354702535,\n",
       "     \"outlier_percentage\": 1.33,\n",
       "     \"count\": 10000.0,\n",
       "     \"mean\": 27.315611999999998,\n",
       "     \"std\": 6.7517154273251,\n",
       "     \"min\": 10.19,\n",
       "     \"25%\": 23.56,\n",
       "     \"50%\": 27.32,\n",
       "     \"75%\": 29.56,\n",
       "     \"max\": 95.69\n",
       "   },\n",
       "   \"feature_name\": \"bmi\"\n",
       " },\n",
       " 'HbA1c_level': {\n",
       "   \"type\": \"continuous\",\n",
       "   \"missing_percentage\": 0.0,\n",
       "   \"low_level_type\": \"float64\",\n",
       "   \"stats\": {\n",
       "     \"mode\": 6.6,\n",
       "     \"median\": 5.8,\n",
       "     \"kurtosis\": 0.19170561683760834,\n",
       "     \"variance\": 1.1492949898990126,\n",
       "     \"skewness\": -0.09410204932743302,\n",
       "     \"outlier_percentage\": 1.31,\n",
       "     \"count\": 10000.0,\n",
       "     \"mean\": 5.5358600000000004,\n",
       "     \"std\": 1.0720517664268887,\n",
       "     \"min\": 3.5,\n",
       "     \"25%\": 4.8,\n",
       "     \"50%\": 5.8,\n",
       "     \"75%\": 6.2,\n",
       "     \"max\": 9.0\n",
       "   },\n",
       "   \"feature_name\": \"HbA1c_level\"\n",
       " },\n",
       " 'blood_glucose_level': {\n",
       "   \"type\": \"ordinal\",\n",
       "   \"missing_percentage\": 0.0,\n",
       "   \"low_level_type\": \"int64\",\n",
       "   \"stats\": {\n",
       "     \"unique percentage\": 0.18,\n",
       "     \"x_min\": 80,\n",
       "     \"x_max\": 300,\n",
       "     \"mode\": 145,\n",
       "     \"count\": 10000,\n",
       "     \"unique\": 18,\n",
       "     \"top\": 145,\n",
       "     \"freq\": 800\n",
       "   },\n",
       "   \"feature_name\": \"blood_glucose_level\"\n",
       " }}"
      ]
     },
     "execution_count": 9,
     "metadata": {},
     "output_type": "execute_result"
    }
   ],
   "source": [
    "diab_ds.feature_types"
   ]
  },
  {
   "cell_type": "markdown",
   "id": "a0e91793",
   "metadata": {},
   "source": [
    "### Remove Duplicate Rows\n",
    "\n",
    "Having duplicate rows is a pain, as it will slow down your model training, without any actual gain. And therefore, we need to remove duplicates. We can call the `drop_duplicates` function to return a dataset with all of the duplicates removed."
   ]
  },
  {
   "cell_type": "code",
   "execution_count": 10,
   "id": "b68e1a63",
   "metadata": {},
   "outputs": [
    {
     "data": {
      "text/plain": [
       "gender                 0\n",
       "age                    0\n",
       "hypertension           0\n",
       "heart_disease          0\n",
       "smoking_history        0\n",
       "bmi                    0\n",
       "HbA1c_level            0\n",
       "blood_glucose_level    0\n",
       "diabetes               0\n",
       "dtype: int64"
      ]
     },
     "execution_count": 10,
     "metadata": {},
     "output_type": "execute_result"
    }
   ],
   "source": [
    "diab_ds.isna().sum()"
   ]
  },
  {
   "cell_type": "code",
   "execution_count": 11,
   "id": "ad866f57",
   "metadata": {},
   "outputs": [
    {
     "data": {
      "text/plain": [
       "(96146, 9)"
      ]
     },
     "execution_count": 11,
     "metadata": {},
     "output_type": "execute_result"
    }
   ],
   "source": [
    "diab_without_dup = diab_ds.drop_duplicates()\n",
    "diab_without_dup.shape"
   ]
  },
  {
   "cell_type": "markdown",
   "id": "40b1df2d",
   "metadata": {},
   "source": [
    "\n",
    "## show_in_notebook()\n",
    "ADS offers a smart visualization tool that automatically detects the type of your data columns and offers the best way to plot your data. You can also create custom visualizations with ADS by using your preferred plotting libraries and packages. The correlation plot gives an idea on totally correlated pairwise attributes. `Highly correlated attributes contribute less to decision making`. So it is better to avoid those attributes. So the transformed dataset ensures that such attributes are avoided. The drop column feature drops those columns which are correlated. **`show_in_notebook()`** shows these correlations in the form of heatmaps. \n",
    "The ADS show_in_notebook() method creates a comprehensive preview of all the basic information about a dataset including:\n",
    "\n",
    "a. The predictive data type (for example, regression, binary classification, or multinomial classification).\n",
    "\n",
    "b. The number of columns and rows.\n",
    "\n",
    "c. Feature type information.\n",
    "\n",
    "d. Summary visualization of each feature.\n",
    "\n",
    "e. The correlation map.\n",
    "\n",
    "f. Any warnings about data conditions that you should be aware of.\n",
    "\n",
    "To improve plotting performance, the ADS show_in_notebook() method uses an optimized subset of the data. This smart sample is selected so that it is statistically representative of the full dataset. The correlation map is only displayed when the data only has numerical (continuous or oridinal) columns.\n",
    "The warnings in this case is the presence of null values for pregancies, insulin, skinthickness and outcome. This can be ignored because for this dataset this is not indicative of missing values.\n",
    "The show_in_notebook() option shows 4 warnings. Pregnancies, SkinThicknes, Insulin, Outcome has zeros. Out of this, Outcome is the target variable. The other 3 attributes are just categorical which displays the presence or absence of Pregnancies, Insulin usage and SkinThickness. So this warning can be ignorned"
   ]
  },
  {
   "cell_type": "code",
   "execution_count": 12,
   "id": "84f0506b",
   "metadata": {},
   "outputs": [
    {
     "data": {
      "application/vnd.jupyter.widget-view+json": {
       "model_id": "f8781cc33c804883b05aa62c44a53cf6",
       "version_major": 2,
       "version_minor": 0
      },
      "text/plain": [
       "Accordion(children=(HTML(value='<h1>Name: User Provided DataFrame</h1><h3>Type: BinaryClassificationDataset</h…"
      ]
     },
     "metadata": {},
     "output_type": "display_data"
    }
   ],
   "source": [
    "diab_ds.show_in_notebook()"
   ]
  },
  {
   "cell_type": "markdown",
   "id": "a1d5f777",
   "metadata": {},
   "source": [
    "## get_recommendations()\n",
    "ADS provides built-in automatic transformation tools for datasets. These tools help detect issues with the data and recommend changes to improve the dataset. The recommended changes can be accepted by clicking a button in the drop-down menu. Once the changes are applied, the transformed dataset can be retrieved using the get_transformed_dataset() method.\n",
    "\n",
    "To access the recommendations, you can use the get_recommendations() method on the ADSDataset object:"
   ]
  },
  {
   "cell_type": "code",
   "execution_count": 13,
   "id": "25f8f0b5",
   "metadata": {
    "scrolled": true
   },
   "outputs": [
    {
     "data": {
      "application/vnd.jupyter.widget-view+json": {
       "model_id": "c8927ed0832e4541bc6bdbe539ddd847",
       "version_major": 2,
       "version_minor": 0
      },
      "text/plain": [
       "Output()"
      ]
     },
     "metadata": {},
     "output_type": "display_data"
    },
    {
     "data": {
      "text/html": [],
      "text/plain": [
       "<ads.dataset.recommendation.Recommendation at 0x7fd709b73b80>"
      ]
     },
     "execution_count": 13,
     "metadata": {},
     "output_type": "execute_result"
    }
   ],
   "source": [
    "diab_ds.get_recommendations()"
   ]
  },
  {
   "cell_type": "markdown",
   "id": "d51c74c4",
   "metadata": {},
   "source": [
    "## get_transformed_dataset()\n",
    "\n",
    "Return the transformed dataset with the recommendations applied.\n",
    "\n",
    "This method should be called after applying the recommendations using the recommendation `show_in_notebook()` API."
   ]
  },
  {
   "cell_type": "code",
   "execution_count": 14,
   "id": "9c0ff71b",
   "metadata": {},
   "outputs": [
    {
     "name": "stdout",
     "output_type": "stream",
     "text": [
      "WARNING:ads.common:`get_transformed_dataset` is deprecated and will be removed in a future release.\n"
     ]
    }
   ],
   "source": [
    "diab_ds.get_transformed_dataset()"
   ]
  },
  {
   "cell_type": "markdown",
   "id": "e1d7385f",
   "metadata": {},
   "source": [
    "## Automated Transformations\n",
    "\n",
    "Automatically chooses the most effective dataset transformation.\n",
    "\n",
    "Alternatively, you can use auto_transform() to apply all the recommended transformations at once. auto_transform() returns a transformed dataset with several optimizations applied automatically. The optimizations include:\n",
    "\n",
    "- Dropping constant and primary key columns, which has no predictive quality.\n",
    "\n",
    "- Imputation to fill in missing values in noisy data.\n",
    "\n",
    "- Dropping strongly co-correlated columns that tend to produce less generalizable models.\n",
    "\n",
    "- Balancing a dataset using up or down sampling.\n",
    "\n",
    "One optional argument to auto_transform() is `fix_imbalance`, which is set to `True` by default. When True, auto_transform() corrects any imbalance between the classes. ADS downsamples the dominant class first unless there are too few data points. In that case, ADS upsamples the minority class."
   ]
  },
  {
   "cell_type": "code",
   "execution_count": 15,
   "id": "3f12303c",
   "metadata": {},
   "outputs": [
    {
     "data": {
      "application/vnd.jupyter.widget-view+json": {
       "model_id": "",
       "version_major": 2,
       "version_minor": 0
      },
      "text/plain": [
       "loop1:   0%|          | 0/7 [00:00<?, ?it/s]"
      ]
     },
     "metadata": {},
     "output_type": "display_data"
    },
    {
     "data": {
      "text/html": [
       "\n",
       "        <style>\n",
       "            .mostly-customized-scrollbar {\n",
       "              display: block;\n",
       "              width: 100%;\n",
       "              overflow: auto;\n",
       "            }\n",
       "\n",
       "            .mostly-customized-scrollbar::-webkit-scrollbar {\n",
       "              width: 5px;\n",
       "              height: 8px;\n",
       "              background-color: #aaa;\n",
       "            }\n",
       "\n",
       "            .mostly-customized-scrollbar::-webkit-scrollbar-thumb {\n",
       "                background: #000;\n",
       "                border-radius: 10px;\n",
       "            }\n",
       "        </style>\n",
       "\n",
       "        <div style=\"width=100%; display: flex; flex-wrap: nowrap; overflow-x: auto;\">\n",
       "            <div class=\"mostly-customized-scrollbar\">\n",
       "                <style type=\"text/css\">\n",
       "#T_f48cc tbody tr:nth-child(even) {\n",
       "  background-color: #F8F8F8;\n",
       "}\n",
       "#T_f48cc tbody tr:hover {\n",
       "  background-color: #D9EDFD;\n",
       "}\n",
       "#T_f48cc th {\n",
       "  font-size: 12px;\n",
       "  text-align: center;\n",
       "  font-weight: bold;\n",
       "  background-color: #D3D3D3;\n",
       "  padding-left: 5px;\n",
       "  padding-right: 5px;\n",
       "  text-align: right;\n",
       "}\n",
       "#T_f48cc td {\n",
       "  font-size: 12px;\n",
       "  text_wrap: False;\n",
       "  white-space: nowrap;\n",
       "  overflow: hidden;\n",
       "  text-overflow: ellipsis;\n",
       "  max-width: 75px;\n",
       "}\n",
       "</style>\n",
       "<table id=\"T_f48cc\" class=table>\n",
       "  <thead>\n",
       "    <tr>\n",
       "      <th id=\"T_f48cc_level0_col0\" class=\"col_heading level0 col0\" >diabetes</th>\n",
       "      <th id=\"T_f48cc_level0_col1\" class=\"col_heading level0 col1\" >gender</th>\n",
       "      <th id=\"T_f48cc_level0_col2\" class=\"col_heading level0 col2\" >age</th>\n",
       "      <th id=\"T_f48cc_level0_col3\" class=\"col_heading level0 col3\" >hypertension</th>\n",
       "      <th id=\"T_f48cc_level0_col4\" class=\"col_heading level0 col4\" >heart_disease</th>\n",
       "      <th id=\"T_f48cc_level0_col5\" class=\"col_heading level0 col5\" >smoking_history</th>\n",
       "      <th id=\"T_f48cc_level0_col6\" class=\"col_heading level0 col6\" >bmi</th>\n",
       "      <th id=\"T_f48cc_level0_col7\" class=\"col_heading level0 col7\" >HbA1c_level</th>\n",
       "      <th id=\"T_f48cc_level0_col8\" class=\"col_heading level0 col8\" >blood_glucose_level</th>\n",
       "    </tr>\n",
       "  </thead>\n",
       "  <tbody>\n",
       "    <tr>\n",
       "      <td id=\"T_f48cc_row0_col0\" class=\"data row0 col0\" >0</td>\n",
       "      <td id=\"T_f48cc_row0_col1\" class=\"data row0 col1\" >Female</td>\n",
       "      <td id=\"T_f48cc_row0_col2\" class=\"data row0 col2\" >52.000000</td>\n",
       "      <td id=\"T_f48cc_row0_col3\" class=\"data row0 col3\" >0</td>\n",
       "      <td id=\"T_f48cc_row0_col4\" class=\"data row0 col4\" >0</td>\n",
       "      <td id=\"T_f48cc_row0_col5\" class=\"data row0 col5\" >never</td>\n",
       "      <td id=\"T_f48cc_row0_col6\" class=\"data row0 col6\" >20.990000</td>\n",
       "      <td id=\"T_f48cc_row0_col7\" class=\"data row0 col7\" >5.700000</td>\n",
       "      <td id=\"T_f48cc_row0_col8\" class=\"data row0 col8\" >90</td>\n",
       "    </tr>\n",
       "    <tr>\n",
       "      <td id=\"T_f48cc_row1_col0\" class=\"data row1 col0\" >0</td>\n",
       "      <td id=\"T_f48cc_row1_col1\" class=\"data row1 col1\" >Female</td>\n",
       "      <td id=\"T_f48cc_row1_col2\" class=\"data row1 col2\" >25.000000</td>\n",
       "      <td id=\"T_f48cc_row1_col3\" class=\"data row1 col3\" >0</td>\n",
       "      <td id=\"T_f48cc_row1_col4\" class=\"data row1 col4\" >0</td>\n",
       "      <td id=\"T_f48cc_row1_col5\" class=\"data row1 col5\" >No Info</td>\n",
       "      <td id=\"T_f48cc_row1_col6\" class=\"data row1 col6\" >27.320000</td>\n",
       "      <td id=\"T_f48cc_row1_col7\" class=\"data row1 col7\" >6.200000</td>\n",
       "      <td id=\"T_f48cc_row1_col8\" class=\"data row1 col8\" >159</td>\n",
       "    </tr>\n",
       "    <tr>\n",
       "      <td id=\"T_f48cc_row2_col0\" class=\"data row2 col0\" >0</td>\n",
       "      <td id=\"T_f48cc_row2_col1\" class=\"data row2 col1\" >Male</td>\n",
       "      <td id=\"T_f48cc_row2_col2\" class=\"data row2 col2\" >80.000000</td>\n",
       "      <td id=\"T_f48cc_row2_col3\" class=\"data row2 col3\" >0</td>\n",
       "      <td id=\"T_f48cc_row2_col4\" class=\"data row2 col4\" >0</td>\n",
       "      <td id=\"T_f48cc_row2_col5\" class=\"data row2 col5\" >No Info</td>\n",
       "      <td id=\"T_f48cc_row2_col6\" class=\"data row2 col6\" >27.320000</td>\n",
       "      <td id=\"T_f48cc_row2_col7\" class=\"data row2 col7\" >6.100000</td>\n",
       "      <td id=\"T_f48cc_row2_col8\" class=\"data row2 col8\" >160</td>\n",
       "    </tr>\n",
       "    <tr>\n",
       "      <td id=\"T_f48cc_row3_col0\" class=\"data row3 col0\" >0</td>\n",
       "      <td id=\"T_f48cc_row3_col1\" class=\"data row3 col1\" >Female</td>\n",
       "      <td id=\"T_f48cc_row3_col2\" class=\"data row3 col2\" >18.000000</td>\n",
       "      <td id=\"T_f48cc_row3_col3\" class=\"data row3 col3\" >0</td>\n",
       "      <td id=\"T_f48cc_row3_col4\" class=\"data row3 col4\" >0</td>\n",
       "      <td id=\"T_f48cc_row3_col5\" class=\"data row3 col5\" >No Info</td>\n",
       "      <td id=\"T_f48cc_row3_col6\" class=\"data row3 col6\" >24.750000</td>\n",
       "      <td id=\"T_f48cc_row3_col7\" class=\"data row3 col7\" >6.100000</td>\n",
       "      <td id=\"T_f48cc_row3_col8\" class=\"data row3 col8\" >90</td>\n",
       "    </tr>\n",
       "    <tr>\n",
       "      <td id=\"T_f48cc_row4_col0\" class=\"data row4 col0\" >0</td>\n",
       "      <td id=\"T_f48cc_row4_col1\" class=\"data row4 col1\" >Female</td>\n",
       "      <td id=\"T_f48cc_row4_col2\" class=\"data row4 col2\" >49.000000</td>\n",
       "      <td id=\"T_f48cc_row4_col3\" class=\"data row4 col3\" >0</td>\n",
       "      <td id=\"T_f48cc_row4_col4\" class=\"data row4 col4\" >0</td>\n",
       "      <td id=\"T_f48cc_row4_col5\" class=\"data row4 col5\" >No Info</td>\n",
       "      <td id=\"T_f48cc_row4_col6\" class=\"data row4 col6\" >27.320000</td>\n",
       "      <td id=\"T_f48cc_row4_col7\" class=\"data row4 col7\" >6.600000</td>\n",
       "      <td id=\"T_f48cc_row4_col8\" class=\"data row4 col8\" >85</td>\n",
       "    </tr>\n",
       "  </tbody>\n",
       "</table>\n",
       "\n",
       "            </div>\n",
       "        </div>\n",
       "    "
      ],
      "text/plain": [
       "<IPython.core.display.HTML object>"
      ]
     },
     "metadata": {},
     "output_type": "display_data"
    },
    {
     "data": {
      "text/plain": [
       "BinaryClassificationDataset(target: diabetes) 17,000 rows, 9 columns"
      ]
     },
     "execution_count": 15,
     "metadata": {},
     "output_type": "execute_result"
    }
   ],
   "source": [
    "diab_ds.auto_transform()"
   ]
  },
  {
   "cell_type": "markdown",
   "id": "2ff10112",
   "metadata": {},
   "source": [
    "## select_best_features()\n",
    "\n",
    "Automatically chooses the best features and removes the rest."
   ]
  },
  {
   "cell_type": "code",
   "execution_count": 16,
   "id": "e3ec1db1",
   "metadata": {
    "scrolled": false
   },
   "outputs": [
    {
     "data": {
      "text/html": [
       "\n",
       "        <style>\n",
       "            .mostly-customized-scrollbar {\n",
       "              display: block;\n",
       "              width: 100%;\n",
       "              overflow: auto;\n",
       "            }\n",
       "\n",
       "            .mostly-customized-scrollbar::-webkit-scrollbar {\n",
       "              width: 5px;\n",
       "              height: 8px;\n",
       "              background-color: #aaa;\n",
       "            }\n",
       "\n",
       "            .mostly-customized-scrollbar::-webkit-scrollbar-thumb {\n",
       "                background: #000;\n",
       "                border-radius: 10px;\n",
       "            }\n",
       "        </style>\n",
       "\n",
       "        <div style=\"width=100%; display: flex; flex-wrap: nowrap; overflow-x: auto;\">\n",
       "            <div class=\"mostly-customized-scrollbar\">\n",
       "                <style type=\"text/css\">\n",
       "#T_60ded tbody tr:nth-child(even) {\n",
       "  background-color: #F8F8F8;\n",
       "}\n",
       "#T_60ded tbody tr:hover {\n",
       "  background-color: #D9EDFD;\n",
       "}\n",
       "#T_60ded th {\n",
       "  font-size: 12px;\n",
       "  text-align: center;\n",
       "  font-weight: bold;\n",
       "  background-color: #D3D3D3;\n",
       "  padding-left: 5px;\n",
       "  padding-right: 5px;\n",
       "  text-align: right;\n",
       "}\n",
       "#T_60ded td {\n",
       "  font-size: 12px;\n",
       "  text_wrap: False;\n",
       "  white-space: nowrap;\n",
       "  overflow: hidden;\n",
       "  text-overflow: ellipsis;\n",
       "  max-width: 75px;\n",
       "}\n",
       "</style>\n",
       "<table id=\"T_60ded\" class=table>\n",
       "  <thead>\n",
       "    <tr>\n",
       "      <th id=\"T_60ded_level0_col0\" class=\"col_heading level0 col0\" >diabetes</th>\n",
       "      <th id=\"T_60ded_level0_col1\" class=\"col_heading level0 col1\" >blood_glucose_level</th>\n",
       "      <th id=\"T_60ded_level0_col2\" class=\"col_heading level0 col2\" >HbA1c_level</th>\n",
       "      <th id=\"T_60ded_level0_col3\" class=\"col_heading level0 col3\" >age</th>\n",
       "      <th id=\"T_60ded_level0_col4\" class=\"col_heading level0 col4\" >bmi</th>\n",
       "      <th id=\"T_60ded_level0_col5\" class=\"col_heading level0 col5\" >hypertension</th>\n",
       "      <th id=\"T_60ded_level0_col6\" class=\"col_heading level0 col6\" >heart_disease</th>\n",
       "      <th id=\"T_60ded_level0_col7\" class=\"col_heading level0 col7\" >smoking_history</th>\n",
       "      <th id=\"T_60ded_level0_col8\" class=\"col_heading level0 col8\" >gender</th>\n",
       "    </tr>\n",
       "  </thead>\n",
       "  <tbody>\n",
       "    <tr>\n",
       "      <td id=\"T_60ded_row0_col0\" class=\"data row0 col0\" >0</td>\n",
       "      <td id=\"T_60ded_row0_col1\" class=\"data row0 col1\" >126</td>\n",
       "      <td id=\"T_60ded_row0_col2\" class=\"data row0 col2\" >5.800000</td>\n",
       "      <td id=\"T_60ded_row0_col3\" class=\"data row0 col3\" >13.000000</td>\n",
       "      <td id=\"T_60ded_row0_col4\" class=\"data row0 col4\" >20.820000</td>\n",
       "      <td id=\"T_60ded_row0_col5\" class=\"data row0 col5\" >0</td>\n",
       "      <td id=\"T_60ded_row0_col6\" class=\"data row0 col6\" >0</td>\n",
       "      <td id=\"T_60ded_row0_col7\" class=\"data row0 col7\" >No Info</td>\n",
       "      <td id=\"T_60ded_row0_col8\" class=\"data row0 col8\" >Female</td>\n",
       "    </tr>\n",
       "    <tr>\n",
       "      <td id=\"T_60ded_row1_col0\" class=\"data row1 col0\" >0</td>\n",
       "      <td id=\"T_60ded_row1_col1\" class=\"data row1 col1\" >145</td>\n",
       "      <td id=\"T_60ded_row1_col2\" class=\"data row1 col2\" >5.000000</td>\n",
       "      <td id=\"T_60ded_row1_col3\" class=\"data row1 col3\" >3.000000</td>\n",
       "      <td id=\"T_60ded_row1_col4\" class=\"data row1 col4\" >21.000000</td>\n",
       "      <td id=\"T_60ded_row1_col5\" class=\"data row1 col5\" >0</td>\n",
       "      <td id=\"T_60ded_row1_col6\" class=\"data row1 col6\" >0</td>\n",
       "      <td id=\"T_60ded_row1_col7\" class=\"data row1 col7\" >No Info</td>\n",
       "      <td id=\"T_60ded_row1_col8\" class=\"data row1 col8\" >Female</td>\n",
       "    </tr>\n",
       "    <tr>\n",
       "      <td id=\"T_60ded_row2_col0\" class=\"data row2 col0\" >0</td>\n",
       "      <td id=\"T_60ded_row2_col1\" class=\"data row2 col1\" >200</td>\n",
       "      <td id=\"T_60ded_row2_col2\" class=\"data row2 col2\" >3.500000</td>\n",
       "      <td id=\"T_60ded_row2_col3\" class=\"data row2 col3\" >63.000000</td>\n",
       "      <td id=\"T_60ded_row2_col4\" class=\"data row2 col4\" >25.320000</td>\n",
       "      <td id=\"T_60ded_row2_col5\" class=\"data row2 col5\" >0</td>\n",
       "      <td id=\"T_60ded_row2_col6\" class=\"data row2 col6\" >0</td>\n",
       "      <td id=\"T_60ded_row2_col7\" class=\"data row2 col7\" >former</td>\n",
       "      <td id=\"T_60ded_row2_col8\" class=\"data row2 col8\" >Male</td>\n",
       "    </tr>\n",
       "    <tr>\n",
       "      <td id=\"T_60ded_row3_col0\" class=\"data row3 col0\" >0</td>\n",
       "      <td id=\"T_60ded_row3_col1\" class=\"data row3 col1\" >126</td>\n",
       "      <td id=\"T_60ded_row3_col2\" class=\"data row3 col2\" >6.100000</td>\n",
       "      <td id=\"T_60ded_row3_col3\" class=\"data row3 col3\" >2.000000</td>\n",
       "      <td id=\"T_60ded_row3_col4\" class=\"data row3 col4\" >17.430000</td>\n",
       "      <td id=\"T_60ded_row3_col5\" class=\"data row3 col5\" >0</td>\n",
       "      <td id=\"T_60ded_row3_col6\" class=\"data row3 col6\" >0</td>\n",
       "      <td id=\"T_60ded_row3_col7\" class=\"data row3 col7\" >never</td>\n",
       "      <td id=\"T_60ded_row3_col8\" class=\"data row3 col8\" >Female</td>\n",
       "    </tr>\n",
       "    <tr>\n",
       "      <td id=\"T_60ded_row4_col0\" class=\"data row4 col0\" >1</td>\n",
       "      <td id=\"T_60ded_row4_col1\" class=\"data row4 col1\" >200</td>\n",
       "      <td id=\"T_60ded_row4_col2\" class=\"data row4 col2\" >6.200000</td>\n",
       "      <td id=\"T_60ded_row4_col3\" class=\"data row4 col3\" >33.000000</td>\n",
       "      <td id=\"T_60ded_row4_col4\" class=\"data row4 col4\" >40.080000</td>\n",
       "      <td id=\"T_60ded_row4_col5\" class=\"data row4 col5\" >0</td>\n",
       "      <td id=\"T_60ded_row4_col6\" class=\"data row4 col6\" >0</td>\n",
       "      <td id=\"T_60ded_row4_col7\" class=\"data row4 col7\" >not current</td>\n",
       "      <td id=\"T_60ded_row4_col8\" class=\"data row4 col8\" >Female</td>\n",
       "    </tr>\n",
       "  </tbody>\n",
       "</table>\n",
       "\n",
       "            </div>\n",
       "        </div>\n",
       "    "
      ],
      "text/plain": [
       "<IPython.core.display.HTML object>"
      ]
     },
     "metadata": {},
     "output_type": "display_data"
    },
    {
     "data": {
      "text/plain": [
       "BinaryClassificationDataset(target: diabetes) 100,000 rows, 9 columns"
      ]
     },
     "execution_count": 16,
     "metadata": {},
     "output_type": "execute_result"
    }
   ],
   "source": [
    "diab_ds.select_best_features()"
   ]
  },
  {
   "cell_type": "markdown",
   "id": "1a4624e1",
   "metadata": {},
   "source": [
    "## Building and Visualizing Models"
   ]
  },
  {
   "cell_type": "code",
   "execution_count": 25,
   "id": "bb9e58f5",
   "metadata": {},
   "outputs": [],
   "source": [
    "# X = diab_ds[['blood_glucose_level', 'HbA1c_level', 'age', 'bmi', 'hypertension', 'heart_disease',\n",
    "#                         'smoking_history', 'gender']]\n",
    "\n",
    "# y = diab_ds[['diabetes']]\n",
    "\n",
    "# X_train, X_test, y_train, y_test = train_test_split(X, y, train_size = 0.90, test_size = 0.10, random_state = 109)\n",
    "\n",
    "# print(\"X_Train Shape:\", X_train.shape)\n",
    "# print(\"Y_Train Shape:\", y_train.shape)\n",
    "# print(\"X_Test Shape:\", X_test.shape)\n",
    "# print(\"Y_Test Shape:\", y_test.shape)"
   ]
  },
  {
   "cell_type": "code",
   "execution_count": 26,
   "id": "0e17d19c",
   "metadata": {},
   "outputs": [],
   "source": [
    "train, test = diab_ds.train_test_split()"
   ]
  },
  {
   "cell_type": "code",
   "execution_count": 31,
   "id": "8fc8d880",
   "metadata": {},
   "outputs": [
    {
     "data": {
      "text/plain": [
       "array(['never', 'No Info', 'current', 'not current', 'former', 'ever'],\n",
       "      dtype=object)"
      ]
     },
     "execution_count": 31,
     "metadata": {},
     "output_type": "execute_result"
    }
   ],
   "source": [
    "train.X.smoking_history.unique()"
   ]
  },
  {
   "cell_type": "code",
   "execution_count": 24,
   "id": "6e7579b7",
   "metadata": {},
   "outputs": [
    {
     "name": "stderr",
     "output_type": "stream",
     "text": [
      "ERROR - Exception\n",
      "Traceback (most recent call last):\n",
      "  File \"/Users/SM023112/opt/anaconda3/lib/python3.8/site-packages/IPython/core/interactiveshell.py\", line 3553, in run_code\n",
      "    exec(code_obj, self.user_global_ns, self.user_ns)\n",
      "  File \"<ipython-input-24-c2ac09642c45>\", line 3, in <cell line: 3>\n",
      "    X_train = sc.fit_transform(X_train)\n",
      "NameError: name 'X_train' is not defined\n",
      "NameError: name 'X_train' is not defined"
     ]
    }
   ],
   "source": [
    "from sklearn.preprocessing import StandardScaler\n",
    "sc = StandardScaler()\n",
    "X_train = sc.fit_transform(X_train)\n",
    "X_test = sc.transform(X_test)"
   ]
  },
  {
   "cell_type": "code",
   "execution_count": null,
   "id": "39dc83c1",
   "metadata": {},
   "outputs": [],
   "source": []
  }
 ],
 "metadata": {
  "kernelspec": {
   "display_name": "Python 3",
   "language": "python",
   "name": "python3"
  },
  "language_info": {
   "codemirror_mode": {
    "name": "ipython",
    "version": 3
   },
   "file_extension": ".py",
   "mimetype": "text/x-python",
   "name": "python",
   "nbconvert_exporter": "python",
   "pygments_lexer": "ipython3",
   "version": "3.8.8"
  }
 },
 "nbformat": 4,
 "nbformat_minor": 5
}
