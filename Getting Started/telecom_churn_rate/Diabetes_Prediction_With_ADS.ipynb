{
 "cells": [
  {
   "cell_type": "code",
   "execution_count": 1,
   "id": "f5c07c42",
   "metadata": {},
   "outputs": [],
   "source": [
    "import ads\n",
    "import logging\n",
    "import numpy as np\n",
    "import os\n",
    "import pandas as pd\n",
    "import shutil\n",
    "import tempfile\n",
    "import warnings\n",
    "\n",
    "from ads.dataset.dataset_browser import DatasetBrowser\n",
    "from ads.dataset.factory import DatasetFactory\n",
    "from ads.common.data import ADSData\n",
    "from ads.common.model import ADSModel\n",
    "from os import path\n",
    "from sqlalchemy import create_engine\n",
    "import seaborn as sns\n",
    "from sklearn.base import TransformerMixin\n",
    "from sklearn.ensemble import RandomForestClassifier\n",
    "from sklearn.tree import DecisionTreeClassifier\n",
    "from sklearn.pipeline import make_pipeline\n",
    "from sklearn.preprocessing import LabelEncoder\n",
    "#from sklearn.model_selection import GridSearchCV\n",
    "#from sklearn.metrics import get_scorer\n",
    "from collections import defaultdict\n",
    "from ads.evaluations.evaluator import ADSEvaluator\n",
    "#from ads.explanations.explainer import ADSExplainer\n",
    "\n",
    "from ads.dataset.dataset_browser import DatasetBrowser\n",
    "#from ads.feature_engineering import feature_type_manager, FeatureType\n",
    "import matplotlib.pyplot as plt\n",
    "from os import path\n",
    "\n",
    "warnings.filterwarnings('ignore')\n",
    "logging.basicConfig(format='%(levelname)s:%(message)s', level=logging.ERROR)"
   ]
  },
  {
   "cell_type": "code",
   "execution_count": 2,
   "id": "4227d3b1",
   "metadata": {},
   "outputs": [
    {
     "name": "stdout",
     "output_type": "stream",
     "text": [
      "2.8.8\n"
     ]
    }
   ],
   "source": [
    "print(ads.__version__)"
   ]
  },
  {
   "cell_type": "code",
   "execution_count": 3,
   "id": "030deecf",
   "metadata": {},
   "outputs": [],
   "source": [
    "diab = pd.read_csv('diabetes_prediction_dataset.csv')"
   ]
  },
  {
   "cell_type": "code",
   "execution_count": null,
   "id": "29c4732a",
   "metadata": {},
   "outputs": [],
   "source": [
    "diab_ds = DatasetFactory.from_dataframe(pd.DataFrame(diab), target = 'diabetes')"
   ]
  },
  {
   "cell_type": "code",
   "execution_count": null,
   "id": "5887e1e0",
   "metadata": {},
   "outputs": [],
   "source": []
  }
 ],
 "metadata": {
  "kernelspec": {
   "display_name": "Python 3",
   "language": "python",
   "name": "python3"
  },
  "language_info": {
   "codemirror_mode": {
    "name": "ipython",
    "version": 3
   },
   "file_extension": ".py",
   "mimetype": "text/x-python",
   "name": "python",
   "nbconvert_exporter": "python",
   "pygments_lexer": "ipython3",
   "version": "3.8.8"
  }
 },
 "nbformat": 4,
 "nbformat_minor": 5
}
