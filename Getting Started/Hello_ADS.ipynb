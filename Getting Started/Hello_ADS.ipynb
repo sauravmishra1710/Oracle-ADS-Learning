{
 "cells": [
  {
   "cell_type": "code",
   "execution_count": 4,
   "id": "31d5a35e",
   "metadata": {},
   "outputs": [
    {
     "name": "stdout",
     "output_type": "stream",
     "text": [
      "\n",
      "\n",
      "  O  o-o   o-o\n",
      " / \\ |  \\ |\n",
      "o---o|   O o-o\n",
      "|   ||  /     |\n",
      "o   oo-o  o--o\n",
      "\n",
      "ads v2.8.8\n",
      "oci v2.111.0\n",
      "ocifs v1.2.1\n",
      "\n",
      "\n"
     ]
    }
   ],
   "source": [
    "import ads\n",
    "ads.hello()"
   ]
  }
 ],
 "metadata": {
  "kernelspec": {
   "display_name": "Python 3",
   "language": "python",
   "name": "python3"
  },
  "language_info": {
   "codemirror_mode": {
    "name": "ipython",
    "version": 3
   },
   "file_extension": ".py",
   "mimetype": "text/x-python",
   "name": "python",
   "nbconvert_exporter": "python",
   "pygments_lexer": "ipython3",
   "version": "3.8.8"
  }
 },
 "nbformat": 4,
 "nbformat_minor": 5
}
